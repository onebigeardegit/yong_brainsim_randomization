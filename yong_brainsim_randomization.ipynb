{
 "cells": [
  {
   "cell_type": "markdown",
   "id": "9b41cf26-d1c2-4e20-97fa-9e51df98b7b9",
   "metadata": {},
   "source": [
    "# Yong (永) Brainsim \n",
    "Tribute to BRAINSIM, a neural network on the Commodore 64 \n",
    "\n",
    "My discussion (with @nickm) on BRAINSIM can be found in the archive of the Critical Code Studies Working Group 2022: https://wg.criticalcodestudies.com/index.php?p=/discussion/117/brainsim-neural-network-on-a-commodore-64-2022-code-critique#latest"
   ]
  },
  {
   "cell_type": "code",
   "execution_count": 1,
   "id": "70db2505-37c4-45a0-aca6-94da2f5e310f",
   "metadata": {},
   "outputs": [],
   "source": [
    "import numpy as np"
   ]
  },
  {
   "cell_type": "code",
   "execution_count": 2,
   "id": "28cb06d8-6efe-47c5-932b-7ceeeaa2849f",
   "metadata": {},
   "outputs": [],
   "source": [
    "# a representation of \"永\" in matrix notation\n",
    "yong_grid = [[0,0,0,0,1,1,0,0,0,0],\n",
    "             [0,0,1,1,1,1,0,0,1,0],\n",
    "             [0,0,0,0,0,1,0,1,0,0],\n",
    "             [0,0,0,0,0,1,1,0,0,0],\n",
    "             [0,1,1,1,1,1,1,0,0,0],\n",
    "             [0,0,0,1,0,1,1,0,0,0],\n",
    "             [0,0,1,0,0,1,0,1,0,0],\n",
    "             [0,1,0,0,0,1,0,0,1,0],\n",
    "             [0,0,0,1,0,1,0,0,0,0],\n",
    "             [0,0,0,0,1,1,0,0,0,0]]"
   ]
  },
  {
   "cell_type": "code",
   "execution_count": 3,
   "id": "ff088c88",
   "metadata": {},
   "outputs": [
    {
     "name": "stdout",
     "output_type": "stream",
     "text": [
      "<class 'list'>\n"
     ]
    }
   ],
   "source": [
    "print(type(yong_grid))"
   ]
  },
  {
   "cell_type": "code",
   "execution_count": 4,
   "id": "4fabcbef-6471-46b3-b2d2-a40d175ea5d3",
   "metadata": {},
   "outputs": [
    {
     "name": "stdout",
     "output_type": "stream",
     "text": [
      "[[0 0 0 0 1 1 0 0 0 0]\n",
      " [0 0 1 1 1 1 0 0 1 0]\n",
      " [0 0 0 0 0 1 0 1 0 0]\n",
      " [0 0 0 0 0 1 1 0 0 0]\n",
      " [0 1 1 1 1 1 1 0 0 0]\n",
      " [0 0 0 1 0 1 1 0 0 0]\n",
      " [0 0 1 0 0 1 0 1 0 0]\n",
      " [0 1 0 0 0 1 0 0 1 0]\n",
      " [0 0 0 1 0 1 0 0 0 0]\n",
      " [0 0 0 0 1 1 0 0 0 0]]\n"
     ]
    }
   ],
   "source": [
    "print(np.matrix(yong_grid))"
   ]
  },
  {
   "cell_type": "code",
   "execution_count": 5,
   "id": "2c97a665-f732-4e6a-a65d-15230f4c4b34",
   "metadata": {},
   "outputs": [
    {
     "data": {
      "image/png": "[encoded data removed]",
      "text/plain": [
       "<Figure size 432x288 with 1 Axes>"
      ]
     },
     "metadata": {
      "needs_background": "light"
     },
     "output_type": "display_data"
    }
   ],
   "source": [
    "from matplotlib import pyplot as plt\n",
    "im = plt.imshow(yong_grid, cmap=\"copper_r\")\n",
    "plt.show()"
   ]
  },
  {
   "cell_type": "code",
   "execution_count": 6,
   "id": "88b311f4-e2cc-494d-9e24-714816303460",
   "metadata": {},
   "outputs": [
    {
     "ename": "ModuleNotFoundError",
     "evalue": "No module named 'seaborn'",
     "output_type": "error",
     "traceback": [
      "\u001b[0;31m---------------------------------------------------------------------------\u001b[0m",
      "\u001b[0;31mModuleNotFoundError\u001b[0m                       Traceback (most recent call last)",
      "\u001b[1;32m/home/onebigear/Documents/structure_graphs/yong_brainsim_randomization.ipynb Cell 7'\u001b[0m in \u001b[0;36m<cell line: 1>\u001b[0;34m()\u001b[0m\n\u001b[0;32m----> <a href='vscode-notebook-cell:/home/onebigear/Documents/structure_graphs/yong_brainsim_randomization.ipynb#ch0000005?line=0'>1</a>\u001b[0m \u001b[39mimport\u001b[39;00m \u001b[39mseaborn\u001b[39;00m \u001b[39mas\u001b[39;00m \u001b[39msns\u001b[39;00m; sns\u001b[39m.\u001b[39mset()\n\u001b[1;32m      <a href='vscode-notebook-cell:/home/onebigear/Documents/structure_graphs/yong_brainsim_randomization.ipynb#ch0000005?line=1'>2</a>\u001b[0m ax \u001b[39m=\u001b[39m sns\u001b[39m.\u001b[39mheatmap(yong_grid, annot\u001b[39m=\u001b[39m\u001b[39mTrue\u001b[39;00m, fmt\u001b[39m=\u001b[39m\u001b[39m\"\u001b[39m\u001b[39md\u001b[39m\u001b[39m\"\u001b[39m)\n\u001b[1;32m      <a href='vscode-notebook-cell:/home/onebigear/Documents/structure_graphs/yong_brainsim_randomization.ipynb#ch0000005?line=2'>3</a>\u001b[0m plt\u001b[39m.\u001b[39mshow()\n",
      "\u001b[0;31mModuleNotFoundError\u001b[0m: No module named 'seaborn'"
     ]
    }
   ],
   "source": [
    "import seaborn as sns; sns.set()\n",
    "ax = sns.heatmap(yong_grid, annot=True, fmt=\"d\")\n",
    "plt.show()"
   ]
  },
  {
   "cell_type": "code",
   "execution_count": null,
   "id": "9f113e8b-b4f3-4633-ae25-0c8f52cd9131",
   "metadata": {},
   "outputs": [
    {
     "name": "stdout",
     "output_type": "stream",
     "text": [
      "1\n",
      "1\n"
     ]
    }
   ],
   "source": [
    "# access item in matrix\n",
    "# notation is [column][row]\n",
    "print(yong_grid[0][4])\n",
    "print(yong_grid[0][5])"
   ]
  },
  {
   "cell_type": "code",
   "execution_count": null,
   "id": "432f0ba2-6e6f-4e75-92b0-60edfa334e91",
   "metadata": {},
   "outputs": [],
   "source": [
    "twenty_p_one = [1,1,0,0,0,0,0,0,0,0]\n",
    "twenty_p_zero = [0,0,1,1,1,1,1,1,1,1]"
   ]
  },
  {
   "cell_type": "code",
   "execution_count": null,
   "id": "b8de1127-f19b-4c9b-a8e2-f199af0cc965",
   "metadata": {},
   "outputs": [],
   "source": [
    "import random\n",
    "import math\n",
    "z_count = 0\n",
    "one_count = 0\n",
    "import math\n",
    "for i in range(10):\n",
    "    for j in range(10):\n",
    "        if yong_grid[i][j] == 0:\n",
    "            # reassign\n",
    "            yong_grid[i][j] = random.choice(twenty_p_one)  \n",
    "        else:\n",
    "            yong_grid[i][j] = random.choice(twenty_p_zero)         "
   ]
  },
  {
   "cell_type": "code",
   "execution_count": null,
   "id": "a650e08a-9a56-45ca-b230-e3c15308d4e4",
   "metadata": {},
   "outputs": [
    {
     "data": {
      "image/png": "[encoded data removed]",
      "text/plain": [
       "<Figure size 432x288 with 2 Axes>"
      ]
     },
     "metadata": {},
     "output_type": "display_data"
    }
   ],
   "source": [
    "ax = sns.heatmap(yong_grid, annot=True, fmt=\"d\")"
   ]
  },
  {
   "cell_type": "code",
   "execution_count": null,
   "id": "539a820f-d146-441f-add1-329c76b73e4c",
   "metadata": {},
   "outputs": [],
   "source": [
    "# lists for 5%, 10% and 15% randomization\n",
    "five_p_one = [1,0,0,0,0,0,0,0,0,0,0,0,0,0,0,0,0,0,0,0]\n",
    "five_p_zero = [0,1,1,1,1,1,1,1,1,1,1,1,1,1,1,1,1,1,1,1]\n",
    "ten_p_one = [1,0,0,0,0,0,0,0,0,0]\n",
    "ten_p_zero = [0,1,1,1,1,1,1,1,1,1]\n",
    "fifteen_p_one = [1,0,0,0,0,0,0,0,0,0,0,0,0,0,0]\n",
    "fifteen_p_zero = [0,1,1,1,1,1,1,1,1,1,1,1,1,1,1]"
   ]
  },
  {
   "cell_type": "code",
   "execution_count": null,
   "id": "0bcb9ea5-8cca-429b-8c23-65ff435d7592",
   "metadata": {},
   "outputs": [],
   "source": [
    "# random image generator\n",
    "# generate heatmap and save in folder \n",
    "def randImg(list_zero, list_one):\n",
    "    z_count = 0\n",
    "    one_count = 0\n",
    "    for i in range(10):\n",
    "        for j in range(10):\n",
    "            if yong_grid[i][j] == 0:\n",
    "                yong_grid[i][j] = random.choice(list_zero)  \n",
    "            else:\n",
    "                yong_grid[i][j] = random.choice(list_one) \n",
    "    ax = sns.heatmap(yong_grid, annot=True, fmt=\"d\")\n",
    "    # clear randomization; reassign var yong_grid hold values of original text input matrix"
   ]
  },
  {
   "cell_type": "code",
   "execution_count": null,
   "id": "95d3568c-082a-4343-80b9-9004521817bc",
   "metadata": {},
   "outputs": [
    {
     "data": {
      "image/png": "[encoded data removed]",
      "text/plain": [
       "<Figure size 432x288 with 2 Axes>"
      ]
     },
     "metadata": {},
     "output_type": "display_data"
    }
   ],
   "source": [
    "# call function with 5%\n",
    "# clear randomization; reassign var yong_grid hold values of original text input matrix\n",
    "yong_grid = [[0,0,0,0,1,1,0,0,0,0],\n",
    "             [0,0,1,1,1,1,0,0,1,0],\n",
    "             [0,0,0,0,0,1,0,1,0,0],\n",
    "             [0,0,0,0,0,1,1,0,0,0],\n",
    "             [0,1,1,1,1,1,1,0,0,0],\n",
    "             [0,0,0,1,0,1,1,0,0,0],\n",
    "             [0,0,1,0,0,1,0,1,0,0],\n",
    "             [0,1,0,0,0,1,0,0,1,0],\n",
    "             [0,0,0,1,0,1,0,0,0,0],\n",
    "             [0,0,0,0,1,1,0,0,0,0]]\n",
    "randImg(five_p_zero, five_p_one)\n"
   ]
  },
  {
   "cell_type": "code",
   "execution_count": null,
   "id": "506f97b0-e44d-401c-81b5-6d43d9933944",
   "metadata": {},
   "outputs": [
    {
     "data": {
      "image/png": "[encoded data removed]",
      "text/plain": [
       "<Figure size 432x288 with 2 Axes>"
      ]
     },
     "metadata": {},
     "output_type": "display_data"
    }
   ],
   "source": [
    "# call function with 10%\n",
    "yong_grid = [[0,0,0,0,1,1,0,0,0,0],\n",
    "             [0,0,1,1,1,1,0,0,1,0],\n",
    "             [0,0,0,0,0,1,0,1,0,0],\n",
    "             [0,0,0,0,0,1,1,0,0,0],\n",
    "             [0,1,1,1,1,1,1,0,0,0],\n",
    "             [0,0,0,1,0,1,1,0,0,0],\n",
    "             [0,0,1,0,0,1,0,1,0,0],\n",
    "             [0,1,0,0,0,1,0,0,1,0],\n",
    "             [0,0,0,1,0,1,0,0,0,0],\n",
    "             [0,0,0,0,1,1,0,0,0,0]]\n",
    "randImg(ten_p_zero, ten_p_one)"
   ]
  },
  {
   "cell_type": "code",
   "execution_count": null,
   "id": "bf3dd55e-6614-4b9d-9e99-8e81f957bfa9",
   "metadata": {},
   "outputs": [
    {
     "data": {
      "image/png": "[encoded data removed]",
      "text/plain": [
       "<Figure size 432x288 with 2 Axes>"
      ]
     },
     "metadata": {},
     "output_type": "display_data"
    }
   ],
   "source": [
    "# fifteen percent\n",
    "yong_grid = [[0,0,0,0,1,1,0,0,0,0],\n",
    "             [0,0,1,1,1,1,0,0,1,0],\n",
    "             [0,0,0,0,0,1,0,1,0,0],\n",
    "             [0,0,0,0,0,1,1,0,0,0],\n",
    "             [0,1,1,1,1,1,1,0,0,0],\n",
    "             [0,0,0,1,0,1,1,0,0,0],\n",
    "             [0,0,1,0,0,1,0,1,0,0],\n",
    "             [0,1,0,0,0,1,0,0,1,0],\n",
    "             [0,0,0,1,0,1,0,0,0,0],\n",
    "             [0,0,0,0,1,1,0,0,0,0]]\n",
    "randImg(fifteen_p_zero, fifteen_p_one)"
   ]
  },
  {
   "cell_type": "code",
   "execution_count": null,
   "id": "c9a8f88b-6b44-4587-a4b8-46ed9fd26b14",
   "metadata": {},
   "outputs": [],
   "source": [
    "# TODO\n",
    "# clear randomization; reassign var yong_grid hold values of original text input matrix\n",
    "# add annotation to specify level of randomization \n",
    "# run 100 times and save pictures"
   ]
  }
 ],
 "metadata": {
  "kernelspec": {
   "display_name": "Python 3.10.4 64-bit",
   "language": "python",
   "name": "python3"
  },
  "language_info": {
   "codemirror_mode": {
    "name": "ipython",
    "version": 3
   },
   "file_extension": ".py",
   "mimetype": "text/x-python",
   "name": "python",
   "nbconvert_exporter": "python",
   "pygments_lexer": "ipython3",
   "version": "3.10.4"
  },
  "vscode": {
   "interpreter": {
    "hash": "916dbcbb3f70747c44a77c7bcd40155683ae19c65e1c03b4aa3499c5328201f1"
   }
  }
 },
 "nbformat": 4,
 "nbformat_minor": 5
}
